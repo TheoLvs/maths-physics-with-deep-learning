{
 "cells": [
  {
   "cell_type": "markdown",
   "metadata": {},
   "source": [
    "# Solving simple differential equation with deep learning"
   ]
  },
  {
   "cell_type": "code",
   "execution_count": 1,
   "metadata": {
    "ExecuteTime": {
     "end_time": "2018-09-25T06:46:44.481828Z",
     "start_time": "2018-09-25T06:46:43.469196Z"
    }
   },
   "outputs": [],
   "source": [
    "# Base Data Science snippet\n",
    "import pandas as pd\n",
    "import numpy as np\n",
    "import matplotlib.pyplot as plt\n",
    "import os\n",
    "import time\n",
    "from tqdm import tqdm_notebook\n",
    "\n",
    "%matplotlib inline\n",
    "%load_ext autoreload\n",
    "%autoreload 2"
   ]
  },
  {
   "cell_type": "markdown",
   "metadata": {},
   "source": [
    "##### References\n",
    "https://becominghuman.ai/neural-networks-for-solving-differential-equations-fa230ac5e04c"
   ]
  },
  {
   "cell_type": "markdown",
   "metadata": {},
   "source": [
    "# Equation"
   ]
  },
  {
   "cell_type": "markdown",
   "metadata": {},
   "source": [
    "$$\\frac{\\partial^2f }{\\partial t^2}+f=0$$"
   ]
  },
  {
   "cell_type": "markdown",
   "metadata": {},
   "source": [
    "## Derivatives"
   ]
  },
  {
   "cell_type": "markdown",
   "metadata": {},
   "source": [
    "##### First derivative in one point"
   ]
  },
  {
   "cell_type": "code",
   "execution_count": 2,
   "metadata": {
    "ExecuteTime": {
     "end_time": "2018-09-25T06:52:19.950234Z",
     "start_time": "2018-09-25T06:52:19.823774Z"
    }
   },
   "outputs": [],
   "source": [
    "def d(f,x,h = 1e-5):\n",
    "    return (f(x+h)-f(x-h))/2*h"
   ]
  },
  {
   "cell_type": "markdown",
   "metadata": {},
   "source": [
    "##### Second derivative in one point"
   ]
  },
  {
   "cell_type": "markdown",
   "metadata": {},
   "source": [
    "$$f''(x)\\approx \\frac{f(x+h)-2f(x)+f(x-h)}{h^2}$$"
   ]
  },
  {
   "cell_type": "code",
   "execution_count": 3,
   "metadata": {
    "ExecuteTime": {
     "end_time": "2018-09-25T06:56:27.875004Z",
     "start_time": "2018-09-25T06:56:27.738060Z"
    }
   },
   "outputs": [],
   "source": [
    "def d2(f,x,h = 1e-5):\n",
    "    return (f(x+h)-2*f(x)+f(x-h))/h*h"
   ]
  },
  {
   "cell_type": "markdown",
   "metadata": {},
   "source": [
    "##### Test of the derivatives"
   ]
  },
  {
   "cell_type": "markdown",
   "metadata": {},
   "source": [
    "$$f(x)=3x^2+2x$$ $$f'(x)=6x+2$$ $$f''(x)=6$$"
   ]
  },
  {
   "cell_type": "code",
   "execution_count": 4,
   "metadata": {
    "ExecuteTime": {
     "end_time": "2018-09-25T06:59:38.921295Z",
     "start_time": "2018-09-25T06:59:38.790485Z"
    }
   },
   "outputs": [],
   "source": [
    "def f1(x): return 3*x**2 + 2*x"
   ]
  },
  {
   "cell_type": "code",
   "execution_count": 9,
   "metadata": {
    "ExecuteTime": {
     "end_time": "2018-09-25T07:00:37.247016Z",
     "start_time": "2018-09-25T07:00:37.118395Z"
    }
   },
   "outputs": [
    {
     "name": "stdout",
     "output_type": "stream",
     "text": [
      "2.0000000000000003e-10\n",
      "8.000000000008001e-10\n"
     ]
    }
   ],
   "source": [
    "print(d(f1,0))\n",
    "print(d(f1,1))"
   ]
  },
  {
   "cell_type": "code",
   "execution_count": 10,
   "metadata": {
    "ExecuteTime": {
     "end_time": "2018-09-25T07:00:52.335781Z",
     "start_time": "2018-09-25T07:00:52.207623Z"
    }
   },
   "outputs": [
    {
     "name": "stdout",
     "output_type": "stream",
     "text": [
      "6.000000000013156e-10\n",
      "6.000009378226423e-10\n"
     ]
    }
   ],
   "source": [
    "print(d2(f1,0))\n",
    "print(d2(f1,1))"
   ]
  },
  {
   "cell_type": "markdown",
   "metadata": {},
   "source": [
    "# Deep Learning"
   ]
  },
  {
   "cell_type": "markdown",
   "metadata": {},
   "source": [
    "## Derivatives with PyTorch"
   ]
  },
  {
   "cell_type": "markdown",
   "metadata": {},
   "source": [
    "- https://discuss.pytorch.org/t/how-to-calculate-2nd-derivative-of-a-likelihood-function/15085/2\n",
    "- https://discuss.pytorch.org/t/second-order-derivatives-and-inplace-gradient-zeroing/14211/3"
   ]
  },
  {
   "cell_type": "code",
   "execution_count": 40,
   "metadata": {
    "ExecuteTime": {
     "end_time": "2018-10-02T14:16:31.394669Z",
     "start_time": "2018-10-02T14:16:31.389683Z"
    }
   },
   "outputs": [],
   "source": [
    "import torch\n",
    "from torch.autograd import Variable\n",
    "from torch.autograd import grad\n",
    "from torch import nn"
   ]
  },
  {
   "cell_type": "markdown",
   "metadata": {},
   "source": [
    "$$f(x)=3x^2+2x$$ $$f'(x)=6x+2$$ $$f''(x)=6$$"
   ]
  },
  {
   "cell_type": "code",
   "execution_count": 33,
   "metadata": {
    "ExecuteTime": {
     "end_time": "2018-10-02T14:07:23.035837Z",
     "start_time": "2018-10-02T14:07:23.030849Z"
    }
   },
   "outputs": [],
   "source": [
    "def f(x): return 3*x**2 + 2*x\n",
    "def f1(x): return 6*x + 2\n",
    "def f2(x): return 6"
   ]
  },
  {
   "cell_type": "markdown",
   "metadata": {},
   "source": [
    "### First derivative"
   ]
  },
  {
   "cell_type": "code",
   "execution_count": 36,
   "metadata": {
    "ExecuteTime": {
     "end_time": "2018-10-02T14:08:35.627438Z",
     "start_time": "2018-10-02T14:08:35.622450Z"
    }
   },
   "outputs": [],
   "source": [
    "def derivative(f,x):\n",
    "    x = Variable(torch.FloatTensor([x]),requires_grad = True)\n",
    "    y = f(x)\n",
    "    y.backward()\n",
    "    return x.grad"
   ]
  },
  {
   "cell_type": "code",
   "execution_count": 37,
   "metadata": {
    "ExecuteTime": {
     "end_time": "2018-10-02T14:08:57.339852Z",
     "start_time": "2018-10-02T14:08:57.333867Z"
    }
   },
   "outputs": [
    {
     "name": "stdout",
     "output_type": "stream",
     "text": [
      "tensor([8.])\n",
      "8\n"
     ]
    }
   ],
   "source": [
    "print(derivative(f,1))\n",
    "print(f1(1))"
   ]
  },
  {
   "cell_type": "code",
   "execution_count": 38,
   "metadata": {
    "ExecuteTime": {
     "end_time": "2018-10-02T14:09:04.741164Z",
     "start_time": "2018-10-02T14:09:04.736142Z"
    }
   },
   "outputs": [
    {
     "name": "stdout",
     "output_type": "stream",
     "text": [
      "tensor([14.])\n",
      "14\n"
     ]
    }
   ],
   "source": [
    "print(derivative(f,2))\n",
    "print(f1(2))"
   ]
  },
  {
   "cell_type": "code",
   "execution_count": 39,
   "metadata": {
    "ExecuteTime": {
     "end_time": "2018-10-02T14:09:29.439352Z",
     "start_time": "2018-10-02T14:09:29.434365Z"
    }
   },
   "outputs": [
    {
     "name": "stdout",
     "output_type": "stream",
     "text": [
      "tensor([62.])\n",
      "62\n"
     ]
    }
   ],
   "source": [
    "print(derivative(f,10))\n",
    "print(f1(10))"
   ]
  },
  {
   "cell_type": "markdown",
   "metadata": {},
   "source": [
    "### Second derivative"
   ]
  },
  {
   "cell_type": "code",
   "execution_count": 57,
   "metadata": {
    "ExecuteTime": {
     "end_time": "2018-10-02T14:20:05.676032Z",
     "start_time": "2018-10-02T14:20:05.672046Z"
    }
   },
   "outputs": [],
   "source": [
    "x = Variable(torch.FloatTensor([x]),requires_grad = True)\n",
    "y = f(x)"
   ]
  },
  {
   "cell_type": "code",
   "execution_count": 60,
   "metadata": {
    "ExecuteTime": {
     "end_time": "2018-10-02T14:20:08.053363Z",
     "start_time": "2018-10-02T14:20:08.048390Z"
    }
   },
   "outputs": [],
   "source": [
    "y.backward(retain_graph=True)"
   ]
  },
  {
   "cell_type": "code",
   "execution_count": 61,
   "metadata": {
    "ExecuteTime": {
     "end_time": "2018-10-02T14:20:08.630484Z",
     "start_time": "2018-10-02T14:20:08.624483Z"
    }
   },
   "outputs": [
    {
     "data": {
      "text/plain": [
       "tensor([28.])"
      ]
     },
     "execution_count": 61,
     "metadata": {},
     "output_type": "execute_result"
    }
   ],
   "source": [
    "x.grad"
   ]
  },
  {
   "cell_type": "code",
   "execution_count": 43,
   "metadata": {
    "ExecuteTime": {
     "end_time": "2018-10-02T14:18:35.658420Z",
     "start_time": "2018-10-02T14:18:35.654432Z"
    }
   },
   "outputs": [],
   "source": [
    "grads = grad(y,x,create_graph=True)"
   ]
  },
  {
   "cell_type": "code",
   "execution_count": 49,
   "metadata": {
    "ExecuteTime": {
     "end_time": "2018-10-02T14:19:15.803378Z",
     "start_time": "2018-10-02T14:19:15.800386Z"
    }
   },
   "outputs": [],
   "source": [
    "grad1 = grads[0]"
   ]
  },
  {
   "cell_type": "code",
   "execution_count": null,
   "metadata": {},
   "outputs": [],
   "source": [
    "y.backward()"
   ]
  },
  {
   "cell_type": "code",
   "execution_count": 52,
   "metadata": {
    "ExecuteTime": {
     "end_time": "2018-10-02T14:19:31.628393Z",
     "start_time": "2018-10-02T14:19:31.624404Z"
    }
   },
   "outputs": [],
   "source": [
    "grad1.grad"
   ]
  },
  {
   "cell_type": "code",
   "execution_count": null,
   "metadata": {},
   "outputs": [],
   "source": []
  }
 ],
 "metadata": {
  "kernelspec": {
   "display_name": "Python [conda root]",
   "language": "python",
   "name": "conda-root-py"
  },
  "language_info": {
   "codemirror_mode": {
    "name": "ipython",
    "version": 3
   },
   "file_extension": ".py",
   "mimetype": "text/x-python",
   "name": "python",
   "nbconvert_exporter": "python",
   "pygments_lexer": "ipython3",
   "version": "3.6.4"
  },
  "toc": {
   "base_numbering": 1,
   "nav_menu": {},
   "number_sections": true,
   "sideBar": true,
   "skip_h1_title": false,
   "title_cell": "Table of Contents",
   "title_sidebar": "Contents",
   "toc_cell": false,
   "toc_position": {},
   "toc_section_display": true,
   "toc_window_display": true
  },
  "varInspector": {
   "cols": {
    "lenName": 16,
    "lenType": 16,
    "lenVar": 40
   },
   "kernels_config": {
    "python": {
     "delete_cmd_postfix": "",
     "delete_cmd_prefix": "del ",
     "library": "var_list.py",
     "varRefreshCmd": "print(var_dic_list())"
    },
    "r": {
     "delete_cmd_postfix": ") ",
     "delete_cmd_prefix": "rm(",
     "library": "var_list.r",
     "varRefreshCmd": "cat(var_dic_list()) "
    }
   },
   "types_to_exclude": [
    "module",
    "function",
    "builtin_function_or_method",
    "instance",
    "_Feature"
   ],
   "window_display": false
  }
 },
 "nbformat": 4,
 "nbformat_minor": 2
}
